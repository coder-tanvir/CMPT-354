{
 "cells": [
  {
   "cell_type": "markdown",
   "metadata": {},
   "source": [
    "# HW4. Relational Algebra & Query Plans"
   ]
  },
  {
   "cell_type": "markdown",
   "metadata": {},
   "source": [
    "## Objectives"
   ]
  },
  {
   "cell_type": "markdown",
   "metadata": {},
   "source": [
    "In this homework assignment, you will review your knowledge in two different topics:\n",
    "\n",
    " - Relational Algebra\n",
    " - Query Processing & Optimization\n",
    "\n",
    "This assignment has two sections, and a total of 20 points. "
   ]
  },
  {
   "cell_type": "markdown",
   "metadata": {},
   "source": [
    "### Preparation "
   ]
  },
  {
   "cell_type": "markdown",
   "metadata": {},
   "source": [
    "To write a relational algebra query in a cell, the cell should be a [Markdown cell](https://jupyter-notebook.readthedocs.io/en/stable/examples/Notebook/Working%20With%20Markdown%20Cells.html). You can use [LaTeX equations](https://jupyter-notebook.readthedocs.io/en/stable/examples/Notebook/Working%20With%20Markdown%20Cells.html#LaTeX-equations) in a markdown cell for required algebraic notation. Here is a list of the main operators:\n",
    "\n",
    "* Selection ($\\sigma$)\n",
    "* Projection ($\\pi$)\n",
    "* Union ($\\cup$)\n",
    "* Intersect ($\\cap$)\n",
    "* Set Difference ($-$) \n",
    "* Cross Product ($\\times$)\n",
    "* Rename ($\\rho$)\n",
    "* Join ($\\bowtie$)\n",
    "* Conjunction ($\\wedge$)\n",
    "* Disconjunction ($\\vee$)\n",
    "* Greater Than or Equal To ($\\geq$)\n",
    "* Less Than or Equal To ($\\leq$)\n",
    "\n",
    "You may also need $_{Subscript}$ and $^{Superscript}$ in the notations you use.\n",
    "\n",
    "Consider the same bank database you have used in homework assignments 2 and 3.\n",
    " - Customer = {<span style=\"text-decoration:underline\">customerID</span>, firstName, lastName, income, birthDate}\n",
    " - Account = {<span style=\"text-decoration:underline\">accNumber</span>, type, balance, branchNumber<sup>FK-Branch</sup>}\n",
    " - Owns = {<span style=\"text-decoration:underline\">customerID</span><sup>FK-Customer</sup>, <span style=\"text-decoration:underline\">accNumber</span><sup>FK-Account</sup>}\n",
    " - Transactions = {<span style=\"text-decoration:underline\">transNumber</span>, <span style=\"text-decoration:underline\">accNumber</span><sup>FK-Account</sup>, amount}\n",
    " - Employee = {<span style=\"text-decoration:underline\">sin</span>, firstName, lastName, salary, branchNumber<sup>FK-Branch</sup>}\n",
    " - Branch = {<span style=\"text-decoration:underline\">branchNumber</span>, branchName, managerSIN<sup>FK-Employee</sup>, budget}\n",
    " "
   ]
  },
  {
   "cell_type": "markdown",
   "metadata": {},
   "source": [
    "## Q1: Relational Algebra (5 points)\n"
   ]
  },
  {
   "cell_type": "markdown",
   "metadata": {},
   "source": [
    "In this assignment, we want you to write down the relational algebraic presentations for the queries you have previously written to extract data from the bank database.\n",
    "\n",
    "1.1. Find out names of the bank branches and first name and last name of their managers."
   ]
  },
  {
   "cell_type": "markdown",
   "metadata": {},
   "source": [
    "($\\pi$)branchName,firstName,lastName(($\\sigma$)sin(Employee) ($\\bowtie$) ($\\sigma$)managerSIN(Branch))"
   ]
  },
  {
   "cell_type": "markdown",
   "metadata": {},
   "source": [
    "1.2. Show account number, account type, account balance, and transaction amount of the accounts with balance higher than 100,000 and transaction amounts higher than 15000."
   ]
  },
  {
   "cell_type": "markdown",
   "metadata": {},
   "source": [
    "($\\pi$)accNumber(Account),type,balance,amount(Transactions)(( ($\\sigma$)accNumber(account)($\\bowtie$) ($\\sigma$)(accNumber)(Transactions)($\\cap$)(($\\sigma$)balance(Account)($\\geq$)1000000)($\\cap$)( ($\\sigma$)amount(Transactions) ($\\geq$)15000))"
   ]
  },
  {
   "cell_type": "markdown",
   "metadata": {},
   "source": [
    "1.3. Show first name, last name, and income of customers whose income is at least twice the income of any customer whose lastName is Butler. "
   ]
  },
  {
   "cell_type": "markdown",
   "metadata": {},
   "source": [
    " ($\\pi$)firstName,lastName,income(( ($\\sigma$)income(Customer)($\\geq$)2*($\\sigma$)income(Customer))($\\cap$)(($\\sigma$)lastName(Customer)='Butler'))"
   ]
  },
  {
   "cell_type": "markdown",
   "metadata": {},
   "source": [
    "1.4. Show Customer ID, income, account numbers and branch numbers of customers with income greater than 90,000 who own an account at both London and Latveria branches."
   ]
  },
  {
   "cell_type": "markdown",
   "metadata": {},
   "source": [
    "($\\pi$)customerID(Customer),income(Customer),accbumber(Account),branchNumber(Account) (  ($\\sigma$)income(Customer) ($\\geq$)90000)($\\cap$)(($\\sigma$)customerID(Customer)($\\bowtie$)customerID(Owns)) ($\\cap$)((( ($\\sigma$)branchNumber(branch)=branchNumber(Account)) ($\\cap$)  (($\\sigma$)accNumber(Account)= accNumber(owns)) ($\\cap$) (($\\sigma$)branchName(Branch)='London'))  ($\\cap$)((( ($\\sigma$)branchNumber(branch)=branchNumber(Account)) ($\\cap$)  (($\\sigma$)accNumber(Account)= accNumber(owns)) ($\\cap$) (($\\sigma$)branchName(Branch)='Latveria'))    )"
   ]
  },
  {
   "cell_type": "markdown",
   "metadata": {},
   "source": [
    "1.5. Customer ID of customers who have an account at the New York branch, who do not own an account at the London branch and who do not co-own an account with another customer who owns an account at the London branch."
   ]
  },
  {
   "cell_type": "markdown",
   "metadata": {},
   "source": [
    "($\\pi$)customerID(Customer) (( ( ($\\sigma$)branchNumber(Branch)=branchnumber(Account)) and (($\\sigma$)accNumber(Account)=accNumber(Owns)) and (($\\sigma$)branchName(Branch)='New York')) ($-$) ( (($\\sigma$)accNumber(owns)($\\bowtie$)($\\sigma$)accNumber(Account) )  ($\\cap$) (($\\sigma$)branchNumber(Account)=branchNumber(Branch)) ($\\cap$) (($\\sigma$)branchName(Branch)='London'))   )"
   ]
  },
  {
   "cell_type": "markdown",
   "metadata": {},
   "source": [
    "## Q2: Query Processing (15 points)"
   ]
  },
  {
   "cell_type": "markdown",
   "metadata": {},
   "source": [
    "In this assignment, we want to go through the query processing steps for a query you have previously written.\n",
    "\n",
    "2.1. (5 points). You have previously provided the SQL query to find out customer ID, first name, last name and income of customers who have income greater than $5000 and own accounts in all of the branches that Helen Morgan owns accounts in. Parse your query into a query parse tree."
   ]
  },
  {
   "cell_type": "markdown",
   "metadata": {},
   "source": [
    "<img src=\"ParseTree.png\" alt=\"Parse Tree\" style=\"width: 450px;\"/> "
   ]
  },
  {
   "cell_type": "markdown",
   "metadata": {},
   "source": [
    "2.2. (5 points). Convert your parse tree to the equivalent relational algebraic representation."
   ]
  },
  {
   "cell_type": "markdown",
   "metadata": {},
   "source": [
    "<img src=\"qp1.png\" alt=\"RA\" style=\"width: 450px;\"/> \n"
   ]
  },
  {
   "cell_type": "markdown",
   "metadata": {},
   "source": [
    "2.3. (3 points) Can you rewrite your query plan? "
   ]
  },
  {
   "cell_type": "markdown",
   "metadata": {},
   "source": [
    "<img src=\"qp2.png\" alt=\"Query Plan\" style=\"width: 450px;\"/> "
   ]
  },
  {
   "cell_type": "markdown",
   "metadata": {},
   "source": [
    "In the image provided in zip folder, I have moved the selections to the bottom of the RA expression. Introduced projections with fewer attributes meaning eliminating unnecessary attributes from the Join operator to make it more efficient."
   ]
  },
  {
   "cell_type": "markdown",
   "metadata": {},
   "source": [
    "2.4. (2 points) Assume you have a million records in each of the six tables above. If you need, make necessary assumptions about your storage blocks, as well as about charactristics in the bank.db. Can you enumerate the size and cost of the intermediate tables in your query plan?"
   ]
  },
  {
   "cell_type": "markdown",
   "metadata": {},
   "source": [
    "B(R)= as number of blocks to hold relation R.\n",
    "T(R)= number of tuples=1 million\n",
    "V(R,a)=distinct number of values of attribute a in relation.\n",
    "B(R)=T(R)* V(R)=1 million * 5 =5 million. //customer table has 5 attribute and considering all the values are distinct.\n",
    "For selection it is T(S)=T(R)/V(R,a) for a single attribute a.\n",
    "For a union it can be large as sum of two or smaller as the larger of two argument [10 million to 5 million for customer and Employee]\n",
    "For a natural join it is (1*1/max(5,5))."
   ]
  },
  {
   "cell_type": "markdown",
   "metadata": {},
   "source": [
    "## Submission"
   ]
  },
  {
   "cell_type": "markdown",
   "metadata": {},
   "source": [
    "Complete the code in this notebook.Put [hw4.ipynb](hw4.ipynb) and your image files together in a zip file [hw4.zip](hw4.zip), submit it to through Canvas system to your HW4 activity. You can also include a pdf file where you can add your comments, thoughts, explanations about any of the questions."
   ]
  }
 ],
 "metadata": {
  "kernelspec": {
   "display_name": "Python 2",
   "language": "python",
   "name": "python2"
  },
  "language_info": {
   "codemirror_mode": {
    "name": "ipython",
    "version": 2
   },
   "file_extension": ".py",
   "mimetype": "text/x-python",
   "name": "python",
   "nbconvert_exporter": "python",
   "pygments_lexer": "ipython2",
   "version": "2.7.16"
  }
 },
 "nbformat": 4,
 "nbformat_minor": 2
}
